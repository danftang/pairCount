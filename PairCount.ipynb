{
 "cells": [
  {
   "cell_type": "markdown",
   "metadata": {},
   "source": [
    "# Counting pairs from a Poisson distribution\n",
    "\n",
    "Suppose we make $N$ draws $(d_1...d_N)$ from a Poisson distribution with mean and variance $\\lambda$. What's the probability of the sequence containing at least $m$ pairs $(d_x, d_{x+1})$ such that $d_x = d_{x+1}$.\n",
    "\n",
    "If $N = 2$, the probability of a pair is given by\n",
    "$$\n",
    "p = \\sum_{k=0}^\\infty \\left(\\frac{\\lambda^k e^{-\\lambda}}{k!}\\right)^2\n",
    "$$"
   ]
  },
  {
   "cell_type": "code",
   "execution_count": 41,
   "metadata": {
    "collapsed": false
   },
   "outputs": [
    {
     "name": "stdout",
     "output_type": "stream",
     "text": [
      "0.00106958590596\n"
     ]
    }
   ],
   "source": [
    "import math\n",
    "from scipy.stats import poisson\n",
    "\n",
    "l = 69560 # ...taken from the attached Gaussian fit. Around 264^2\n",
    "pdist = poisson(l)\n",
    "\n",
    "p = 0\n",
    "for k in range(int(l - 5*math.sqrt(l)), int(l + 5*math.sqrt(l))):\n",
    "    p += pow(pdist.pmf(k),2)\n",
    "print p"
   ]
  },
  {
   "cell_type": "markdown",
   "metadata": {},
   "source": [
    "The probability of getting exactly $M$ pairs in $N$ samples can be well approximated, for small $\\frac{M}{N-1}$, by the binomial distribution\n",
    "$$\n",
    "{N-1 \\choose M} p^M(1-p)^{N-1-M}\n",
    "$$\n",
    "so the probability of getting at least m pairs is well approximated, for small $\\frac{m}{N-1}$ by\n",
    "$$\n",
    "P = \\sum_{M=m}^{N-1} {N-1 \\choose M} p^M(1-p)^{N-1-M}\n",
    "$$"
   ]
  },
  {
   "cell_type": "code",
   "execution_count": 43,
   "metadata": {
    "collapsed": false
   },
   "outputs": [
    {
     "name": "stdout",
     "output_type": "stream",
     "text": [
      "0.069275432877\n"
     ]
    }
   ],
   "source": [
    "from scipy.stats import binom\n",
    "\n",
    "N = 4000\n",
    "m = 8\n",
    "\n",
    "bdist = binom(N-1, p)\n",
    "\n",
    "P = 0\n",
    "for M in range(m,N-1):\n",
    "    P += bdist.pmf(M)\n",
    "\n",
    "print P"
   ]
  },
  {
   "cell_type": "code",
   "execution_count": 57,
   "metadata": {
    "collapsed": false
   },
   "outputs": [
    {
     "name": "stdout",
     "output_type": "stream",
     "text": [
      "0.0706\n"
     ]
    }
   ],
   "source": [
    "# sanity check\n",
    "import numpy as np\n",
    "\n",
    "sims = 10000\n",
    "n = 0\n",
    "\n",
    "for sim in range(1,sims):\n",
    "    draws = np.random.poisson(l, 4000)\n",
    "    M = 0\n",
    "    for i in range(1,3999):\n",
    "        if(draws[i] == draws[i-1]):\n",
    "            M +=1\n",
    "    if(M >= m): n += 1\n",
    "print n*1.0/sims"
   ]
  }
 ],
 "metadata": {
  "kernelspec": {
   "display_name": "Python 2",
   "language": "python",
   "name": "python2"
  },
  "language_info": {
   "codemirror_mode": {
    "name": "ipython",
    "version": 2
   },
   "file_extension": ".py",
   "mimetype": "text/x-python",
   "name": "python",
   "nbconvert_exporter": "python",
   "pygments_lexer": "ipython2",
   "version": "2.7.12"
  }
 },
 "nbformat": 4,
 "nbformat_minor": 2
}
